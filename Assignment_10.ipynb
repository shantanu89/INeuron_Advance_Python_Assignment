{
 "cells": [
  {
   "cell_type": "markdown",
   "metadata": {
    "id": "87uqJWyuozLk"
   },
   "source": [
    "Q1. What is the difference between __getattr__ and __getattribute__?\n",
    "\n",
    "Answer: __getattribute__: Is used to retrieve an attribute from an instance. __getattr__: Is executed as the last resource when attribute is not found in an object.\n"
   ]
  },
  {
   "cell_type": "markdown",
   "metadata": {
    "id": "xv5F7bvUozIi"
   },
   "source": [
    "\n",
    "Q2. What is the difference between properties and descriptors?\n",
    "\n",
    "Answer: Descriptors are a low-level mechanism that lets us hook into an object's attributes being accessed. Properties are a high-level application of this. that is, properties are implemented using descriptors.\n"
   ]
  },
  {
   "cell_type": "markdown",
   "metadata": {
    "id": "LEXFXx61ozGR"
   },
   "source": [
    "\n",
    "Q3. What are the key differences in functionality between __getattr__ and __getattribute__, as well as\n",
    "properties and descriptors?\n",
    "\n",
    "Answer: A key difference between __getattr__ and __getattribute__ is that __getattr__ is only invoked if the attribute wasn't found the usual ways. It's good for implementing a fallback for missing attributes and is probably the one of two you want."
   ]
  }
 ],
 "metadata": {
  "colab": {
   "name": "Ineuron_Python_Advance_Assignment10.ipynb",
   "provenance": []
  },
  "kernelspec": {
   "display_name": "Python 3",
   "language": "python",
   "name": "python3"
  },
  "language_info": {
   "codemirror_mode": {
    "name": "ipython",
    "version": 3
   },
   "file_extension": ".py",
   "mimetype": "text/x-python",
   "name": "python",
   "nbconvert_exporter": "python",
   "pygments_lexer": "ipython3",
   "version": "3.8.5"
  }
 },
 "nbformat": 4,
 "nbformat_minor": 1
}
