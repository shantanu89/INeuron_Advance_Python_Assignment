{
 "cells": [
  {
   "cell_type": "markdown",
   "metadata": {
    "id": "WrNfMDQmVW1m"
   },
   "source": [
    "**Ineuron Python Advance Assignment 2**"
   ]
  },
  {
   "cell_type": "markdown",
   "metadata": {
    "id": "8ztayaPtVWw4"
   },
   "source": [
    "Q1. What is the relationship between classes and modules?\n",
    "\n",
    "Answer: Modules are collections of methods and constants. They cannot generate instances. Classes may generate instances (objects), and have per-instance state (instance variables)."
   ]
  },
  {
   "cell_type": "markdown",
   "metadata": {
    "id": "7vAj0cTUVWtl"
   },
   "source": [
    "\n",
    "Q2. How do you make instances and classes?\n",
    "\n",
    "Answer: Classes can be cretaed with the help of keyword class. To create instances of a class, we can call the class using class name and pass in whatever arguments its __init__ method accepts."
   ]
  },
  {
   "cell_type": "code",
   "execution_count": 2,
   "metadata": {},
   "outputs": [],
   "source": [
    "class Employee:  # we can create  class using keyword class\n",
    "    def __init__(self, gender,salary):\n",
    "        self.gender = gender\n",
    "        self.salary = salary"
   ]
  },
  {
   "cell_type": "code",
   "execution_count": 5,
   "metadata": {},
   "outputs": [],
   "source": [
    "obj = Employee(\"Male\",1200000)   #Instance of class"
   ]
  },
  {
   "cell_type": "markdown",
   "metadata": {
    "id": "3alBr_ShVWn_"
   },
   "source": [
    "Q3. Where and how should be class attributes created?\n",
    "\n",
    "Answer: Any variable that is bound in a class is a class attribute. Any function defined within a class is a method. Methods receive an instance of the class, conventionally called self, as the first argument. For example"
   ]
  },
  {
   "cell_type": "code",
   "execution_count": 6,
   "metadata": {
    "id": "MwimE4XgW555"
   },
   "outputs": [],
   "source": [
    "class MyClass:\n",
    "    attr1 = 10        #class attributes\n",
    "    attr2 = \"hello\"\n",
    "\n",
    "    def method1(self):\n",
    "        print( MyClass.attr1)   #reference the class attribute\n",
    "\n",
    "    def method2(self):\n",
    "        print( MyClass.attr2)   #reference the class attribute\n",
    "\n",
    "    def method3(self, text):\n",
    "        self.text = text        #instance attribute\n",
    "        print( text, self.text)   #print my argument and my attribute\n"
   ]
  },
  {
   "cell_type": "markdown",
   "metadata": {
    "id": "GgfF78qiVWl9"
   },
   "source": [
    "\n",
    "Q4. Where and how are instance attributes created?\n",
    "\n",
    "Answer: Instance attributes are attributes or properties attached to an instance of a class. Instance attributes are defined in the constructor."
   ]
  },
  {
   "cell_type": "code",
   "execution_count": 7,
   "metadata": {},
   "outputs": [],
   "source": [
    "class Car:\n",
    "    def __init__(self,color,price,engine):\n",
    "        self.color = color # All this are instance attributes\n",
    "        self.price = price\n",
    "        self.engine = engine\n",
    "\n",
    "nexon_ev = Car('Indigo Blue', 1400000, 'electric')"
   ]
  },
  {
   "cell_type": "markdown",
   "metadata": {
    "id": "NIPYj0E0VWj9"
   },
   "source": [
    "\n",
    "Q5. What does the term &quot;self&quot; in a Python class mean?\n",
    "\n",
    "Answer: self represents the instance of the class. By using the “self” keyword we can access the attributes and methods of the class in python. It binds the attributes with the given arguments."
   ]
  },
  {
   "cell_type": "code",
   "execution_count": 9,
   "metadata": {},
   "outputs": [
    {
     "name": "stdout",
     "output_type": "stream",
     "text": [
      "{'color': 'Indigo Blue', 'price': 1400000, 'engine': 'electric'}\n"
     ]
    }
   ],
   "source": [
    "class Car:\n",
    "    def __init__(self,color,price,engine):\n",
    "        self.color = color # All this are instance attributes\n",
    "        self.price = price\n",
    "        self.engine = engine\n",
    "\n",
    "nexon_ev = Car('Indigo Blue', 1400000, 'electric')\n",
    "\n",
    "\n",
    "print(nexon_ev.__dict__)"
   ]
  },
  {
   "cell_type": "markdown",
   "metadata": {
    "id": "l-m7aoupVWiT"
   },
   "source": [
    "\n",
    "Q6. How does a Python class handle operator overloading?\n",
    "\n",
    "Answer: The operator overloading in Python means provide extended meaning beyond their predefined operational meaning. Such as, we use the \"+\" operator for adding two integers as well as joining two strings or merging two lists. We can achieve this as the \"+\" operator is overloaded by the \"int\" class and \"str\" class. The user can notice that the same inbuilt operator or function is showing different behaviour for objects of different classes. This process is known as operator overloading.\n",
    "For example: "
   ]
  },
  {
   "cell_type": "code",
   "execution_count": 10,
   "metadata": {
    "colab": {
     "base_uri": "https://localhost:8080/"
    },
    "id": "1Gm6uupeYB82",
    "outputId": "126174e7-483a-42c5-e67f-7e61dfbf0aad"
   },
   "outputs": [
    {
     "name": "stdout",
     "output_type": "stream",
     "text": [
      "The total number of pages in 2 books is 300\n"
     ]
    }
   ],
   "source": [
    "class Book:\n",
    "    def __init__(self,pages):\n",
    "        self.pages = pages\n",
    "    def __add__(self,other):\n",
    "        return self.pages + other.pages\n",
    "b1 = Book(100)\n",
    "b2 = Book(200)\n",
    "print(f'The total number of pages in 2 books is {b1+b2}')"
   ]
  },
  {
   "cell_type": "markdown",
   "metadata": {
    "id": "85aVhzEcVkAw"
   },
   "source": [
    "\n",
    "Q7. When do you consider allowing operator overloading of your classes?\n",
    "\n",
    "Answer: Suppose that we have two objects which are a physical representation of a class (user-defined data type) and we have to add two objects with binary '+' operator it throws an error, because compiler don't know how to add two objects. So we define a method for an operator and that process is called operator overloading."
   ]
  },
  {
   "cell_type": "markdown",
   "metadata": {
    "id": "HPf7K-InVkkT"
   },
   "source": [
    "\n",
    "Q8. What is the most popular form of operator overloading?\n",
    "\n",
    "Answer : A very popular and convenient example is the Addition (+) operator.  the '+' operator operates on two numbers and the same operator operates on two strings. It performs “Addition” on numbers whereas it performs “Concatenation” on strings.\n"
   ]
  },
  {
   "cell_type": "code",
   "execution_count": 11,
   "metadata": {},
   "outputs": [
    {
     "name": "stdout",
     "output_type": "stream",
     "text": [
      "Sum -> 3\n",
      "String Concatenation -> Mano Vishnu\n"
     ]
    }
   ],
   "source": [
    "class A:\n",
    "    def __init__(self,a):\n",
    "        self.a = a\n",
    "    def __add__(self,o):\n",
    "        return self.a+o.a\n",
    "obj1 = A(1)\n",
    "obj2 = A(2)\n",
    "obj3 = A('Mano')\n",
    "obj4 = A(' Vishnu')\n",
    "print(f'Sum -> {obj1+obj2}')\n",
    "print(f'String Concatenation -> {obj3+obj4}')"
   ]
  },
  {
   "cell_type": "markdown",
   "metadata": {
    "id": "m4kWvoQyVnUg"
   },
   "source": [
    "\n",
    "Q9. What are the two most important concepts to grasp in order to comprehend Python OOP code?\n",
    "\n",
    "Answer: The two most important concepts to grasp in order to comprehend Python OOP code are polymorphism and inheritence."
   ]
  },
  {
   "cell_type": "code",
   "execution_count": 12,
   "metadata": {
    "colab": {
     "base_uri": "https://localhost:8080/"
    },
    "id": "JMeWeLimVQr3",
    "outputId": "75f82364-1b8f-43ce-a845-2b2834c8cbd1"
   },
   "outputs": [
    {
     "name": "stdout",
     "output_type": "stream",
     "text": [
      "this is a msg to ineruon\n",
      "this is a msg to xyz\n"
     ]
    }
   ],
   "source": [
    "#polymorphism example :\n",
    "class ineuron:\n",
    "    def msg(self):\n",
    "        print(\"this is a msg to ineruon\")\n",
    "          \n",
    "class xyz:  \n",
    "    def msg(self):\n",
    "        print(\"this is a msg to xyz\")     \n",
    "\n",
    "def test(notes):\n",
    "    notes.msg()\n",
    "\n",
    "i = ineuron()\n",
    "x = xyz()\n",
    "\n",
    "test(i) # function giving some result\n",
    "test(x) # same function giving some other result"
   ]
  },
  {
   "cell_type": "code",
   "execution_count": 13,
   "metadata": {
    "colab": {
     "base_uri": "https://localhost:8080/"
    },
    "id": "p9alfNm3Zlac",
    "outputId": "68ae1ed2-1fe7-4a7f-94f7-925fe41d3650"
   },
   "outputs": [
    {
     "name": "stdout",
     "output_type": "stream",
     "text": [
      "iNeuron Company was established in 2018\n"
     ]
    }
   ],
   "source": [
    "#inheritence example:\n",
    "class Ineuron:\n",
    "    company_website = 'https://ineuron.ai/'\n",
    "    name = 'iNeuron'\n",
    " \n",
    "    def contact_details(self):\n",
    "        print('Contact us at ', self.company_website)\n",
    "\n",
    "class Datascience(Ineuron):\n",
    "    def __init__(self):\n",
    "        self.year_of_establishment= 2018\n",
    " \n",
    "    def est_details(self):\n",
    "        print('{0} Company was established in {1}'\n",
    "              .format(self.name,self.year_of_establishment))\n",
    " \n",
    "ds = Datascience()\n",
    "ds.est_details()"
   ]
  }
 ],
 "metadata": {
  "colab": {
   "name": "Ineuron_Python_Advance_Assignment2.ipynb",
   "provenance": []
  },
  "kernelspec": {
   "display_name": "Python 3",
   "language": "python",
   "name": "python3"
  },
  "language_info": {
   "codemirror_mode": {
    "name": "ipython",
    "version": 3
   },
   "file_extension": ".py",
   "mimetype": "text/x-python",
   "name": "python",
   "nbconvert_exporter": "python",
   "pygments_lexer": "ipython3",
   "version": "3.8.5"
  }
 },
 "nbformat": 4,
 "nbformat_minor": 1
}
