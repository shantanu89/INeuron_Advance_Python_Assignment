{
 "cells": [
  {
   "cell_type": "markdown",
   "metadata": {
    "id": "Hxms042nk1S9"
   },
   "source": [
    "**Ineuron Python Advance Assignment 1**"
   ]
  },
  {
   "cell_type": "markdown",
   "metadata": {
    "id": "PFOgWTp8befZ"
   },
   "source": [
    "Q1. What is the purpose of Python&#39;s OOP?\n",
    "\n",
    "Answer: In Python, object-oriented Programming (OOPs) is a programming paradigm that uses objects and classes in programming. It aims to implement real-world entities like inheritance, polymorphisms, encapsulation, etc. in the programming. The main concept of OOPs is to bind the data and the functions that work on that together as a single unit so that no other part of the code can access this data. "
   ]
  },
  {
   "cell_type": "markdown",
   "metadata": {
    "id": "Sf6Azterbqe5"
   },
   "source": [
    "Q2. Where does an inheritance search look for an attribute?\n",
    "\n",
    "Answer: The inheritance search is simply a search of the tree from bottom to top looking for the lowest occurrence of an attribute name"
   ]
  },
  {
   "cell_type": "markdown",
   "metadata": {
    "id": "dQaXv2fdbqJX"
   },
   "source": [
    "\n",
    "Q3. How do you distinguish between a class object and an instance object?\n",
    "\n",
    "Answer: \n",
    "Class Object:\n",
    "\n",
    "An Object is an instance of a Class. A class is like a blueprint while an instance is a copy of the class with actual values. It’s not an idea anymore, it’s an actual dog, like a dog of breed pug who’s seven years old. You can have many dogs to create many different instances, but without the class as a guide, you would be lost, not knowing what information is required.\n",
    "\n",
    "An object consists of : \n",
    "- State: It is represented by the attributes of an object. It also reflects the properties of an object.\n",
    "- Behavior: It is represented by the methods of an object. It also reflects the response of an object to other objects.\n",
    "- Identity: It gives a unique name to an object and enables one object to interact with other objects.\n",
    "\n",
    "Instance object: \n",
    "- To create instances of a class, you call the class using class name and pass in whatever arguments its __init__ method accepts.\n"
   ]
  },
  {
   "cell_type": "markdown",
   "metadata": {
    "id": "ZG8mXiWabqCy"
   },
   "source": [
    "\n",
    "Q4. What makes the first argument in a class’s method function special?\n",
    "\n",
    "Answer: The first argument of every class method, including init, is always a reference to the current instance of the class. By convention, this argument is always named self. In the init method, self refers to the newly created object; in other class methods, it refers to the instance whose method was called. \n"
   ]
  },
  {
   "cell_type": "markdown",
   "metadata": {
    "id": "lZGzpqisbp_I"
   },
   "source": [
    "\n",
    "Q5. What is the purpose of the __init__ method?\n",
    "\n",
    "Answer: The __init__ function is called every time an object is created from a class. The __init__ method lets the class initialize the object's attributes and serves no other purpose. It is only used within classes."
   ]
  },
  {
   "cell_type": "markdown",
   "metadata": {
    "id": "xHmQyxT3bp8O"
   },
   "source": [
    "\n",
    "Q6. What is the process for creating a class instance?\n",
    "\n",
    "Answer: Define a class first then create the functions after the class is made then create the object for calling the functions as per requirements.\n",
    "Example: "
   ]
  },
  {
   "cell_type": "code",
   "execution_count": 1,
   "metadata": {
    "colab": {
     "base_uri": "https://localhost:8080/"
    },
    "id": "ngukbdFOjULq",
    "outputId": "a45a36c6-facf-46aa-faa6-f4daca089db1"
   },
   "outputs": [
    {
     "name": "stdout",
     "output_type": "stream",
     "text": [
      "abc\n"
     ]
    }
   ],
   "source": [
    "class C:\n",
    "    def __init__(self, data):\n",
    "        self.data = data\n",
    "\n",
    "an_instance = C(\"abc\")\n",
    "print(an_instance.data)"
   ]
  },
  {
   "cell_type": "markdown",
   "metadata": {
    "id": "l86BnnBSbp6d"
   },
   "source": [
    "\n",
    "Q7. What is the process for creating a class?\n",
    "\n",
    "Answer: A Class is like an object constructor, or a \"blueprint\" for creating objects. Exxample: "
   ]
  },
  {
   "cell_type": "code",
   "execution_count": 2,
   "metadata": {
    "colab": {
     "base_uri": "https://localhost:8080/"
    },
    "id": "TIxQo4-RkTrG",
    "outputId": "92e9612a-4692-4492-87e3-8a7087ba2db4"
   },
   "outputs": [
    {
     "name": "stdout",
     "output_type": "stream",
     "text": [
      "5\n"
     ]
    }
   ],
   "source": [
    "class MyClass: #create class using class keyword\n",
    "  x = 5\n",
    "\n",
    "p1 = MyClass()\n",
    "print(p1.x)"
   ]
  },
  {
   "cell_type": "markdown",
   "metadata": {
    "id": "_WF_Bs_Kbp0e"
   },
   "source": [
    "\n",
    "Q8. How would you define the superclasses of a class?\n",
    "\n",
    "Answer: The class from which a class inherits is called the parent or superclass. A class which inherits from a superclass is called a subclass, also called heir class or child class. Superclasses are sometimes called ancestors as well."
   ]
  },
  {
   "cell_type": "code",
   "execution_count": null,
   "metadata": {},
   "outputs": [],
   "source": [
    "#example\n",
    "\n",
    "class A:          # SUPER CLASS\n",
    "    def sample(a):      \n",
    "        return a\n",
    "class B(A):      # SUB CLASS\n",
    "    def sample1(b):\n",
    "        return b\n",
    "    \n",
    "    "
   ]
  }
 ],
 "metadata": {
  "colab": {
   "name": "Ineuron_Python_Advance_Assignment1.ipynb",
   "provenance": []
  },
  "kernelspec": {
   "display_name": "Python 3",
   "language": "python",
   "name": "python3"
  },
  "language_info": {
   "codemirror_mode": {
    "name": "ipython",
    "version": 3
   },
   "file_extension": ".py",
   "mimetype": "text/x-python",
   "name": "python",
   "nbconvert_exporter": "python",
   "pygments_lexer": "ipython3",
   "version": "3.8.5"
  }
 },
 "nbformat": 4,
 "nbformat_minor": 1
}
